{
 "metadata": {
  "name": "",
  "signature": "sha256:ca31b22ca6c9d449f4faef2671f975931ab6c7fbf1d99cc8214184b046b351a0"
 },
 "nbformat": 3,
 "nbformat_minor": 0,
 "worksheets": [
  {
   "cells": [
    {
     "cell_type": "code",
     "collapsed": false,
     "input": [
      "from astropy.table import Table,Column\n",
      "from astropy.time import Time\n",
      "from astropy import units\n",
      "from astropy.coordinates import SkyCoord\n",
      "from astropy.io import ascii"
     ],
     "language": "python",
     "metadata": {},
     "outputs": [],
     "prompt_number": 20
    },
    {
     "cell_type": "heading",
     "level": 3,
     "metadata": {},
     "source": [
      "Read Output table from JPL Horizons search"
     ]
    },
    {
     "cell_type": "code",
     "collapsed": false,
     "input": [
      "TNOtable = ascii.read('results.csv')\n",
      "TNOtable"
     ],
     "language": "python",
     "metadata": {},
     "outputs": [
      {
       "html": [
        "<table id=\"table190248104\"><thead><tr><th>full_name</th><th>epoch_mjd</th><th>a</th><th>e</th><th>i</th><th>om</th><th>w</th><th>ma</th><th>n</th><th>first_obs</th><th>H</th><th>per_y</th></tr></thead><tr><td>(2004 PC112)</td><td>53245</td><td>44.3481583197</td><td>0.0417847864</td><td>2.35778281749</td><td>69.5335888726</td><td>277.282523509</td><td>0.0682940059998</td><td>0.00333726497117</td><td>2004-08-13</td><td>--</td><td>295.339534583</td></tr><tr><td>136199 Eris (2003 UB313)</td><td>57000</td><td>67.780774172</td><td>0.440682394459</td><td>44.0445054133</td><td>35.9531158579</td><td>150.976609894</td><td>204.164909623</td><td>0.00176621791892</td><td>1954-09-03</td><td>-1.2</td><td>558.04341741</td></tr><tr><td>134340 Pluto</td><td>54000</td><td>39.4450697257</td><td>0.250248713478</td><td>17.0890009196</td><td>110.376957955</td><td>112.597141677</td><td>25.2471897122</td><td>0.00397845987</td><td>1914-01-23</td><td>-0.8</td><td>247.74066236</td></tr><tr><td>136472 Makemake (2005 FY9)</td><td>57000</td><td>45.7147545775</td><td>0.155856053965</td><td>29.0068468023</td><td>79.365873329</td><td>297.240201382</td><td>156.352082315</td><td>0.00318874275618</td><td>1955-01-29</td><td>-0.4</td><td>309.09557739</td></tr><tr><td>136108 Haumea (2003 EL61)</td><td>57000</td><td>43.2175290506</td><td>0.191257109569</td><td>28.1916103155</td><td>121.791629198</td><td>240.200030598</td><td>209.074236091</td><td>0.00346907888037</td><td>1955-03-22</td><td>0.1</td><td>284.117576267</td></tr><tr><td>90377 Sedna (2003 VB12)</td><td>57000</td><td>524.434127468</td><td>0.854906989592</td><td>11.9286384948</td><td>144.5452006</td><td>311.287794922</td><td>358.163128402</td><td>8.20668294886e-05</td><td>1990-09-25</td><td>1.5</td><td>12010.0446125</td></tr><tr><td>225088 (2007 OR10)</td><td>57000</td><td>66.8472694237</td><td>0.505845873337</td><td>30.9376131472</td><td>336.815258446</td><td>206.652395469</td><td>103.846466702</td><td>0.00180334394527</td><td>1985-08-19</td><td>2.0</td><td>546.554796689</td></tr><tr><td>90482 Orcus (2004 DW)</td><td>57000</td><td>39.4597479656</td><td>0.218430021323</td><td>20.5520090866</td><td>268.481608576</td><td>73.3951584227</td><td>172.569055975</td><td>0.00397624021477</td><td>1951-11-08</td><td>2.2</td><td>247.878958547</td></tr><tr><td>50000 Quaoar (2002 LM60)</td><td>57000</td><td>43.2586494832</td><td>0.0347423329393</td><td>7.98884230163</td><td>188.834557939</td><td>159.656493526</td><td>281.757293427</td><td>0.00346413364558</td><td>1954-05-25</td><td>2.4</td><td>284.523169199</td></tr><tr><td>(2013 FY27)</td><td>56549</td><td>59.6152385858</td><td>0.403746676087</td><td>33.1211309701</td><td>187.050523778</td><td>133.239660375</td><td>221.621383554</td><td>0.00214125378829</td><td>2013-03-17</td><td>3.0</td><td>460.303345991</td></tr><tr><td>55636 (2002 TX300)</td><td>57000</td><td>43.2196523283</td><td>0.121348113956</td><td>25.8807352855</td><td>324.710710956</td><td>340.150409494</td><td>71.2572741422</td><td>0.00346882324223</td><td>1954-08-27</td><td>3.3</td><td>284.138514574</td></tr><tr><td>...</td><td>...</td><td>...</td><td>...</td><td>...</td><td>...</td><td>...</td><td>...</td><td>...</td><td>...</td><td>...</td><td>...</td></tr><tr><td>(2007 DA61)</td><td>57000</td><td>448.402159757</td><td>0.994081843383</td><td>76.8602651587</td><td>145.768995464</td><td>349.585474764</td><td>0.295134704612</td><td>0.000103801237302</td><td>2007-02-25</td><td>14.913</td><td>9495.32307116</td></tr><tr><td>(2014 XS3)</td><td>57000</td><td>83.8903370321</td><td>0.961212141768</td><td>101.442648631</td><td>62.2886357688</td><td>39.4240241433</td><td>359.982223262</td><td>0.00128273269704</td><td>2014-12-08</td><td>15.113</td><td>768.380104163</td></tr><tr><td>(2003 UY283)</td><td>57000</td><td>33.5040363002</td><td>0.894417174743</td><td>18.8779541048</td><td>40.0799319653</td><td>311.509092146</td><td>21.9105157765</td><td>0.00508227754208</td><td>2003-10-18</td><td>15.151</td><td>193.933974523</td></tr><tr><td>(2002 RN109)</td><td>57000</td><td>698.006908071</td><td>0.996120725096</td><td>57.8952865202</td><td>170.502425773</td><td>212.480471756</td><td>0.232981239108</td><td>5.34459120549e-05</td><td>2002-08-16</td><td>15.3</td><td>18441.5654158</td></tr><tr><td>(2004 NN8)</td><td>57000</td><td>97.9446020812</td><td>0.976377445916</td><td>165.466157476</td><td>165.10646247</td><td>262.341219931</td><td>3.7578763991</td><td>0.0010167947956</td><td>2004-07-13</td><td>15.3</td><td>969.346310225</td></tr><tr><td>(2012 HD2)</td><td>57000</td><td>61.0974876138</td><td>0.958192680596</td><td>146.896977315</td><td>21.9905810031</td><td>200.09642608</td><td>1.72666976147</td><td>0.00206380683237</td><td>2012-04-18</td><td>15.3</td><td>477.576809957</td></tr><tr><td>(2009 DD47)</td><td>57000</td><td>45.7850493979</td><td>0.951587845866</td><td>107.431094771</td><td>173.591152452</td><td>313.696841012</td><td>7.1114781911</td><td>0.00318140195244</td><td>2009-02-27</td><td>15.814</td><td>309.808788107</td></tr><tr><td>(2013 LD16)</td><td>57000</td><td>79.9516355215</td><td>0.968171239311</td><td>154.748480054</td><td>25.7829985449</td><td>186.063132151</td><td>0.579305645361</td><td>0.00137867863498</td><td>2013-06-06</td><td>16.1</td><td>714.906475199</td></tr><tr><td>(2013 BN27)</td><td>57000</td><td>62.8714289729</td><td>0.975134982123</td><td>101.779615207</td><td>128.018740995</td><td>300.400756825</td><td>1.54658282549</td><td>0.00197707924466</td><td>2013-01-17</td><td>17.1</td><td>498.526443</td></tr><tr><td>(2011 WS41)</td><td>55891</td><td>38.313192392</td><td>0.945646384237</td><td>141.645120015</td><td>105.538780961</td><td>326.492748218</td><td>0.580912222552</td><td>0.00415605765045</td><td>2011-11-24</td><td>17.6</td><td>237.15414132</td></tr><tr><td>(2010 EB46)</td><td>57000</td><td>32.5624010163</td><td>0.953417216783</td><td>156.530593948</td><td>176.108395881</td><td>26.7170641083</td><td>8.99338914173</td><td>0.00530431666331</td><td>2010-03-12</td><td>19.4</td><td>185.815882786</td></tr></table>"
       ],
       "metadata": {},
       "output_type": "pyout",
       "prompt_number": 21,
       "text": [
        "<Table rows=1648 names=('full_name','epoch_mjd','a','e','i','om','w','ma','n','first_obs','H','per_y')>\n",
        "masked_array(data = [ ('(2004 PC112)', 53245, 44.34815831974979, 0.04178478639995932, 2.357782817485464, 69.53358887264676, 277.2825235089251, 0.06829400599981163, 0.00333726497117285, '2004-08-13', --, 295.339534583365)\n",
        " ('136199 Eris (2003 UB313)', 57000, 67.78077417200119, 0.4406823944594159, 44.04450541331026, 35.95311585793857, 150.9766098935623, 204.1649096228426, 0.001766217918923816, '1954-09-03', -1.2, 558.043417410301)\n",
        " ('134340 Pluto', 54000, 39.4450697257358, 0.250248713478499, 17.089000919562, 110.3769579554089, 112.5971416774872, 25.24718971218841, 0.003978459870000909, '1914-01-23', -0.8, 247.740662360214)\n",
        " ...,\n",
        " ('(2013 BN27)', 57000, 62.87142897286078, 0.9751349821234925, 101.7796152072112, 128.0187409946718, 300.4007568249533, 1.546582825486135, 0.001977079244657302, '2013-01-17', 17.1, 498.526442999709)\n",
        " ('(2011 WS41)', 55891, 38.31319239198732, 0.9456463842373832, 141.6451200146137, 105.5387809610657, 326.4927482175477, 0.580912222551796, 0.004156057650448179, '2011-11-24', 17.6, 237.154141319784)\n",
        " ('(2010 EB46)', 57000, 32.56240101631759, 0.9534172167832299, 156.530593947749, 176.1083958813756, 26.71706410834156, 8.99338914173451, 0.005304316663310535, '2010-03-12', 19.4, 185.815882785627)],\n",
        "             mask = [ (False, False, False, False, False, False, False, False, False, False, True, False)\n",
        " (False, False, False, False, False, False, False, False, False, False, False, False)\n",
        " (False, False, False, False, False, False, False, False, False, False, False, False)\n",
        " ...,\n",
        " (False, False, False, False, False, False, False, False, False, False, False, False)\n",
        " (False, False, False, False, False, False, False, False, False, False, False, False)\n",
        " (False, False, False, False, False, False, False, False, False, False, False, False)],\n",
        "       fill_value = ('N/A', 999999, 1e+20, 1e+20, 1e+20, 1e+20, 1e+20, 1e+20, 1e+20, 'N/A', 1e+20, 1e+20),\n",
        "            dtype = [('full_name', 'S33'), ('epoch_mjd', '<i4'), ('a', '<f8'), ('e', '<f8'), ('i', '<f8'), ('om', '<f8'), ('w', '<f8'), ('ma', '<f8'), ('n', '<f8'), ('first_obs', 'S10'), ('H', '<f8'), ('per_y', '<f8')])"
       ]
      }
     ],
     "prompt_number": 21
    },
    {
     "cell_type": "heading",
     "level": 3,
     "metadata": {},
     "source": [
      "Calculate Mean Anomoly at J2000 epoch"
     ]
    },
    {
     "cell_type": "code",
     "collapsed": false,
     "input": [
      "TNOtable['ma']=TNOtable['ma'] + (51544.5 - TNOtable['epoch_mjd']) * TNOtable['n']"
     ],
     "language": "python",
     "metadata": {},
     "outputs": [],
     "prompt_number": 22
    },
    {
     "cell_type": "code",
     "collapsed": false,
     "input": [
      "TNOtable\n"
     ],
     "language": "python",
     "metadata": {},
     "outputs": [
      {
       "html": [
        "<table id=\"table190248104\"><thead><tr><th>full_name</th><th>epoch_mjd</th><th>a</th><th>e</th><th>i</th><th>om</th><th>w</th><th>ma</th><th>n</th><th>first_obs</th><th>H</th><th>per_y</th></tr></thead><tr><td>(2004 PC112)</td><td>53245</td><td>44.3481583197</td><td>0.0417847864</td><td>2.35778281749</td><td>69.5335888726</td><td>277.282523509</td><td>-5.60672507748</td><td>0.00333726497117</td><td>2004-08-13</td><td>--</td><td>295.339534583</td></tr><tr><td>136199 Eris (2003 UB313)</td><td>57000</td><td>67.780774172</td><td>0.440682394459</td><td>44.0445054133</td><td>35.9531158579</td><td>150.976609894</td><td>194.529307766</td><td>0.00176621791892</td><td>1954-09-03</td><td>-1.2</td><td>558.04341741</td></tr><tr><td>134340 Pluto</td><td>54000</td><td>39.4450697257</td><td>0.250248713478</td><td>17.0890009196</td><td>110.376957955</td><td>112.597141677</td><td>15.4780815014</td><td>0.00397845987</td><td>1914-01-23</td><td>-0.8</td><td>247.74066236</td></tr><tr><td>136472 Makemake (2005 FY9)</td><td>57000</td><td>45.7147545775</td><td>0.155856053965</td><td>29.0068468023</td><td>79.365873329</td><td>297.240201382</td><td>138.955896209</td><td>0.00318874275618</td><td>1955-01-29</td><td>-0.4</td><td>309.09557739</td></tr><tr><td>136108 Haumea (2003 EL61)</td><td>57000</td><td>43.2175290506</td><td>0.191257109569</td><td>28.1916103155</td><td>121.791629198</td><td>240.200030598</td><td>190.148676259</td><td>0.00346907888037</td><td>1955-03-22</td><td>0.1</td><td>284.117576267</td></tr><tr><td>90377 Sedna (2003 VB12)</td><td>57000</td><td>524.434127468</td><td>0.854906989592</td><td>11.9286384948</td><td>144.5452006</td><td>311.287794922</td><td>357.715412814</td><td>8.20668294886e-05</td><td>1990-09-25</td><td>1.5</td><td>12010.0446125</td></tr><tr><td>225088 (2007 OR10)</td><td>57000</td><td>66.8472694237</td><td>0.505845873337</td><td>30.9376131472</td><td>336.815258446</td><td>206.652395469</td><td>94.008323809</td><td>0.00180334394527</td><td>1985-08-19</td><td>2.0</td><td>546.554796689</td></tr><tr><td>90482 Orcus (2004 DW)</td><td>57000</td><td>39.4597479656</td><td>0.218430021323</td><td>20.5520090866</td><td>268.481608576</td><td>73.3951584227</td><td>150.876677484</td><td>0.00397624021477</td><td>1951-11-08</td><td>2.2</td><td>247.878958547</td></tr><tr><td>50000 Quaoar (2002 LM60)</td><td>57000</td><td>43.2586494832</td><td>0.0347423329393</td><td>7.98884230163</td><td>188.834557939</td><td>159.656493526</td><td>262.858712324</td><td>0.00346413364558</td><td>1954-05-25</td><td>2.4</td><td>284.523169199</td></tr><tr><td>(2013 FY27)</td><td>56549</td><td>59.6152385858</td><td>0.403746676087</td><td>33.1211309701</td><td>187.050523778</td><td>133.239660375</td><td>210.90547897</td><td>0.00214125378829</td><td>2013-03-17</td><td>3.0</td><td>460.303345991</td></tr><tr><td>55636 (2002 TX300)</td><td>57000</td><td>43.2196523283</td><td>0.121348113956</td><td>25.8807352855</td><td>324.710710956</td><td>340.150409494</td><td>52.3331089442</td><td>0.00346882324223</td><td>1954-08-27</td><td>3.3</td><td>284.138514574</td></tr><tr><td>...</td><td>...</td><td>...</td><td>...</td><td>...</td><td>...</td><td>...</td><td>...</td><td>...</td><td>...</td><td>...</td><td>...</td></tr><tr><td>(2007 DA61)</td><td>57000</td><td>448.402159757</td><td>0.994081843383</td><td>76.8602651587</td><td>145.768995464</td><td>349.585474764</td><td>-0.271152945488</td><td>0.000103801237302</td><td>2007-02-25</td><td>14.913</td><td>9495.32307116</td></tr><tr><td>(2014 XS3)</td><td>57000</td><td>83.8903370321</td><td>0.961212141768</td><td>101.442648631</td><td>62.2886357688</td><td>39.4240241433</td><td>352.984275033</td><td>0.00128273269704</td><td>2014-12-08</td><td>15.113</td><td>768.380104163</td></tr><tr><td>(2003 UY283)</td><td>57000</td><td>33.5040363002</td><td>0.894417174743</td><td>18.8779541048</td><td>40.0799319653</td><td>311.509092146</td><td>-5.81584935437</td><td>0.00508227754208</td><td>2003-10-18</td><td>15.151</td><td>193.933974523</td></tr><tr><td>(2002 RN109)</td><td>57000</td><td>698.006908071</td><td>0.996120725096</td><td>57.8952865202</td><td>170.502425773</td><td>212.480471756</td><td>-0.0585929341076</td><td>5.34459120549e-05</td><td>2002-08-16</td><td>15.3</td><td>18441.5654158</td></tr><tr><td>(2004 NN8)</td><td>57000</td><td>97.9446020812</td><td>0.976377445916</td><td>165.466157476</td><td>165.10646247</td><td>262.341219931</td><td>-1.78924760828</td><td>0.0010167947956</td><td>2004-07-13</td><td>15.3</td><td>969.346310225</td></tr><tr><td>(2012 HD2)</td><td>57000</td><td>61.0974876138</td><td>0.958192680596</td><td>146.896977315</td><td>21.9905810031</td><td>200.09642608</td><td>-9.5324284125</td><td>0.00206380683237</td><td>2012-04-18</td><td>15.3</td><td>477.576809957</td></tr><tr><td>(2009 DD47)</td><td>57000</td><td>45.7850493979</td><td>0.951587845866</td><td>107.431094771</td><td>173.591152452</td><td>313.696841012</td><td>-10.2446601604</td><td>0.00318140195244</td><td>2009-02-27</td><td>15.814</td><td>309.808788107</td></tr><tr><td>(2013 LD16)</td><td>57000</td><td>79.9516355215</td><td>0.968171239311</td><td>154.748480054</td><td>25.7829985449</td><td>186.063132151</td><td>-6.94207564778</td><td>0.00137867863498</td><td>2013-06-06</td><td>16.1</td><td>714.906475199</td></tr><tr><td>(2013 BN27)</td><td>57000</td><td>62.8714289729</td><td>0.975134982123</td><td>101.779615207</td><td>128.018740995</td><td>300.400756825</td><td>-9.23937299374</td><td>0.00197707924466</td><td>2013-01-17</td><td>17.1</td><td>498.526443</td></tr><tr><td>(2011 WS41)</td><td>55891</td><td>38.313192392</td><td>0.945646384237</td><td>141.645120015</td><td>105.538780961</td><td>326.492748218</td><td>-17.4833923551</td><td>0.00415605765045</td><td>2011-11-24</td><td>17.6</td><td>237.15414132</td></tr><tr><td>(2010 EB46)</td><td>57000</td><td>32.5624010163</td><td>0.953417216783</td><td>156.530593948</td><td>176.108395881</td><td>26.7170641083</td><td>-19.944310415</td><td>0.00530431666331</td><td>2010-03-12</td><td>19.4</td><td>185.815882786</td></tr></table>"
       ],
       "metadata": {},
       "output_type": "pyout",
       "prompt_number": 23,
       "text": [
        "<Table rows=1648 names=('full_name','epoch_mjd','a','e','i','om','w','ma','n','first_obs','H','per_y')>\n",
        "masked_array(data = [ ('(2004 PC112)', 53245, 44.34815831974979, 0.04178478639995932, 2.357782817485464, 69.53358887264676, 277.2825235089251, -5.606725077479619, 0.00333726497117285, '2004-08-13', --, 295.339534583365)\n",
        " ('136199 Eris (2003 UB313)', 57000, 67.78077417200119, 0.4406823944594159, 44.04450541331026, 35.95311585793857, 150.9766098935623, 194.52930776615372, 0.001766217918923816, '1954-09-03', -1.2, 558.043417410301)\n",
        " ('134340 Pluto', 54000, 39.4450697257358, 0.250248713478499, 17.089000919562, 110.3769579554089, 112.5971416774872, 15.478081501401176, 0.003978459870000909, '1914-01-23', -0.8, 247.740662360214)\n",
        " ...,\n",
        " ('(2013 BN27)', 57000, 62.87142897286078, 0.9751349821234925, 101.7796152072112, 128.0187409946718, 300.4007568249533, -9.239372993741775, 0.001977079244657302, '2013-01-17', 17.1, 498.526442999709)\n",
        " ('(2011 WS41)', 55891, 38.31319239198732, 0.9456463842373832, 141.6451200146137, 105.5387809610657, 326.4927482175477, -17.483392355121214, 0.004156057650448179, '2011-11-24', 17.6, 237.154141319784)\n",
        " ('(2010 EB46)', 57000, 32.56240101631759, 0.9534172167832299, 156.530593947749, 176.1083958813756, 26.71706410834156, -19.944310414956114, 0.005304316663310535, '2010-03-12', 19.4, 185.815882785627)],\n",
        "             mask = [ (False, False, False, False, False, False, False, False, False, False, True, False)\n",
        " (False, False, False, False, False, False, False, False, False, False, False, False)\n",
        " (False, False, False, False, False, False, False, False, False, False, False, False)\n",
        " ...,\n",
        " (False, False, False, False, False, False, False, False, False, False, False, False)\n",
        " (False, False, False, False, False, False, False, False, False, False, False, False)\n",
        " (False, False, False, False, False, False, False, False, False, False, False, False)],\n",
        "       fill_value = ('N/A', 999999, 1e+20, 1e+20, 1e+20, 1e+20, 1e+20, 1e+20, 1e+20, 'N/A', 1e+20, 1e+20),\n",
        "            dtype = [('full_name', 'S33'), ('epoch_mjd', '<i4'), ('a', '<f8'), ('e', '<f8'), ('i', '<f8'), ('om', '<f8'), ('w', '<f8'), ('ma', '<f8'), ('n', '<f8'), ('first_obs', 'S10'), ('H', '<f8'), ('per_y', '<f8')])"
       ]
      }
     ],
     "prompt_number": 23
    },
    {
     "cell_type": "heading",
     "level": 3,
     "metadata": {},
     "source": [
      "Write first observation date in mjd"
     ]
    },
    {
     "cell_type": "code",
     "collapsed": false,
     "input": [
      "times = Time(TNOtable['first_obs'], format='isot', scale='utc')\n",
      "TNOtable.remove_columns(['first_obs','epoch_mjd','n'])\n",
      "TNOtable.add_column(Column(times.mjd,name=\"Discovery Date\"))\n",
      "TNOtable"
     ],
     "language": "python",
     "metadata": {},
     "outputs": [
      {
       "html": [
        "<table id=\"table190248104\"><thead><tr><th>full_name</th><th>a</th><th>e</th><th>i</th><th>om</th><th>w</th><th>ma</th><th>H</th><th>per_y</th><th>Discovery Date</th></tr></thead><tr><td>(2004 PC112)</td><td>44.3481583197</td><td>0.0417847864</td><td>2.35778281749</td><td>69.5335888726</td><td>277.282523509</td><td>-5.60672507748</td><td>--</td><td>295.339534583</td><td>53230.0</td></tr><tr><td>136199 Eris (2003 UB313)</td><td>67.780774172</td><td>0.440682394459</td><td>44.0445054133</td><td>35.9531158579</td><td>150.976609894</td><td>194.529307766</td><td>-1.2</td><td>558.04341741</td><td>34988.0</td></tr><tr><td>134340 Pluto</td><td>39.4450697257</td><td>0.250248713478</td><td>17.0890009196</td><td>110.376957955</td><td>112.597141677</td><td>15.4780815014</td><td>-0.8</td><td>247.74066236</td><td>20155.0</td></tr><tr><td>136472 Makemake (2005 FY9)</td><td>45.7147545775</td><td>0.155856053965</td><td>29.0068468023</td><td>79.365873329</td><td>297.240201382</td><td>138.955896209</td><td>-0.4</td><td>309.09557739</td><td>35136.0</td></tr><tr><td>136108 Haumea (2003 EL61)</td><td>43.2175290506</td><td>0.191257109569</td><td>28.1916103155</td><td>121.791629198</td><td>240.200030598</td><td>190.148676259</td><td>0.1</td><td>284.117576267</td><td>35188.0</td></tr><tr><td>90377 Sedna (2003 VB12)</td><td>524.434127468</td><td>0.854906989592</td><td>11.9286384948</td><td>144.5452006</td><td>311.287794922</td><td>357.715412814</td><td>1.5</td><td>12010.0446125</td><td>48159.0</td></tr><tr><td>225088 (2007 OR10)</td><td>66.8472694237</td><td>0.505845873337</td><td>30.9376131472</td><td>336.815258446</td><td>206.652395469</td><td>94.008323809</td><td>2.0</td><td>546.554796689</td><td>46296.0</td></tr><tr><td>90482 Orcus (2004 DW)</td><td>39.4597479656</td><td>0.218430021323</td><td>20.5520090866</td><td>268.481608576</td><td>73.3951584227</td><td>150.876677484</td><td>2.2</td><td>247.878958547</td><td>33958.0</td></tr><tr><td>50000 Quaoar (2002 LM60)</td><td>43.2586494832</td><td>0.0347423329393</td><td>7.98884230163</td><td>188.834557939</td><td>159.656493526</td><td>262.858712324</td><td>2.4</td><td>284.523169199</td><td>34887.0</td></tr><tr><td>(2013 FY27)</td><td>59.6152385858</td><td>0.403746676087</td><td>33.1211309701</td><td>187.050523778</td><td>133.239660375</td><td>210.90547897</td><td>3.0</td><td>460.303345991</td><td>56368.0</td></tr><tr><td>55636 (2002 TX300)</td><td>43.2196523283</td><td>0.121348113956</td><td>25.8807352855</td><td>324.710710956</td><td>340.150409494</td><td>52.3331089442</td><td>3.3</td><td>284.138514574</td><td>34981.0</td></tr><tr><td>...</td><td>...</td><td>...</td><td>...</td><td>...</td><td>...</td><td>...</td><td>...</td><td>...</td><td>...</td></tr><tr><td>(2007 DA61)</td><td>448.402159757</td><td>0.994081843383</td><td>76.8602651587</td><td>145.768995464</td><td>349.585474764</td><td>-0.271152945488</td><td>14.913</td><td>9495.32307116</td><td>54156.0</td></tr><tr><td>(2014 XS3)</td><td>83.8903370321</td><td>0.961212141768</td><td>101.442648631</td><td>62.2886357688</td><td>39.4240241433</td><td>352.984275033</td><td>15.113</td><td>768.380104163</td><td>56999.0</td></tr><tr><td>(2003 UY283)</td><td>33.5040363002</td><td>0.894417174743</td><td>18.8779541048</td><td>40.0799319653</td><td>311.509092146</td><td>-5.81584935437</td><td>15.151</td><td>193.933974523</td><td>52930.0</td></tr><tr><td>(2002 RN109)</td><td>698.006908071</td><td>0.996120725096</td><td>57.8952865202</td><td>170.502425773</td><td>212.480471756</td><td>-0.0585929341076</td><td>15.3</td><td>18441.5654158</td><td>52502.0</td></tr><tr><td>(2004 NN8)</td><td>97.9446020812</td><td>0.976377445916</td><td>165.466157476</td><td>165.10646247</td><td>262.341219931</td><td>-1.78924760828</td><td>15.3</td><td>969.346310225</td><td>53199.0</td></tr><tr><td>(2012 HD2)</td><td>61.0974876138</td><td>0.958192680596</td><td>146.896977315</td><td>21.9905810031</td><td>200.09642608</td><td>-9.5324284125</td><td>15.3</td><td>477.576809957</td><td>56035.0</td></tr><tr><td>(2009 DD47)</td><td>45.7850493979</td><td>0.951587845866</td><td>107.431094771</td><td>173.591152452</td><td>313.696841012</td><td>-10.2446601604</td><td>15.814</td><td>309.808788107</td><td>54889.0</td></tr><tr><td>(2013 LD16)</td><td>79.9516355215</td><td>0.968171239311</td><td>154.748480054</td><td>25.7829985449</td><td>186.063132151</td><td>-6.94207564778</td><td>16.1</td><td>714.906475199</td><td>56449.0</td></tr><tr><td>(2013 BN27)</td><td>62.8714289729</td><td>0.975134982123</td><td>101.779615207</td><td>128.018740995</td><td>300.400756825</td><td>-9.23937299374</td><td>17.1</td><td>498.526443</td><td>56309.0</td></tr><tr><td>(2011 WS41)</td><td>38.313192392</td><td>0.945646384237</td><td>141.645120015</td><td>105.538780961</td><td>326.492748218</td><td>-17.4833923551</td><td>17.6</td><td>237.15414132</td><td>55889.0</td></tr><tr><td>(2010 EB46)</td><td>32.5624010163</td><td>0.953417216783</td><td>156.530593948</td><td>176.108395881</td><td>26.7170641083</td><td>-19.944310415</td><td>19.4</td><td>185.815882786</td><td>55267.0</td></tr></table>"
       ],
       "metadata": {},
       "output_type": "pyout",
       "prompt_number": 24,
       "text": [
        "<Table rows=1648 names=('full_name','a','e','i','om','w','ma','H','per_y','Discovery Date')>\n",
        "masked_array(data = [ ('(2004 PC112)', 44.34815831974979, 0.04178478639995932, 2.357782817485464, 69.53358887264676, 277.2825235089251, -5.606725077479619, --, 295.339534583365, 53230.0)\n",
        " ('136199 Eris (2003 UB313)', 67.78077417200119, 0.4406823944594159, 44.04450541331026, 35.95311585793857, 150.9766098935623, 194.52930776615372, -1.2, 558.043417410301, 34988.0)\n",
        " ('134340 Pluto', 39.4450697257358, 0.250248713478499, 17.089000919562, 110.3769579554089, 112.5971416774872, 15.478081501401176, -0.8, 247.740662360214, 20155.0)\n",
        " ...,\n",
        " ('(2013 BN27)', 62.87142897286078, 0.9751349821234925, 101.7796152072112, 128.0187409946718, 300.4007568249533, -9.239372993741775, 17.1, 498.526442999709, 56309.0)\n",
        " ('(2011 WS41)', 38.31319239198732, 0.9456463842373832, 141.6451200146137, 105.5387809610657, 326.4927482175477, -17.483392355121214, 17.6, 237.154141319784, 55889.0)\n",
        " ('(2010 EB46)', 32.56240101631759, 0.9534172167832299, 156.530593947749, 176.1083958813756, 26.71706410834156, -19.944310414956114, 19.4, 185.815882785627, 55267.0)],\n",
        "             mask = [(False, False, False, False, False, False, False, True, False, False)\n",
        " (False, False, False, False, False, False, False, False, False, False)\n",
        " (False, False, False, False, False, False, False, False, False, False)\n",
        " ...,\n",
        " (False, False, False, False, False, False, False, False, False, False)\n",
        " (False, False, False, False, False, False, False, False, False, False)\n",
        " (False, False, False, False, False, False, False, False, False, False)],\n",
        "       fill_value = ('N/A', 1e+20, 1e+20, 1e+20, 1e+20, 1e+20, 1e+20, 1e+20, 1e+20, 1e+20),\n",
        "            dtype = [('full_name', 'S33'), ('a', '<f8'), ('e', '<f8'), ('i', '<f8'), ('om', '<f8'), ('w', '<f8'), ('ma', '<f8'), ('H', '<f8'), ('per_y', '<f8'), ('Discovery Date', '<f8')])"
       ]
      }
     ],
     "prompt_number": 24
    },
    {
     "cell_type": "heading",
     "level": 3,
     "metadata": {},
     "source": [
      "Output USES style .raw file"
     ]
    },
    {
     "cell_type": "code",
     "collapsed": false,
     "input": [
      "TNOtable.remove_columns(['full_name'])\n",
      "TNOtable.filled(-9999).write(\"TNOs.raw\",format='ascii.no_header') #filled just in case, unnecessary I think"
     ],
     "language": "python",
     "metadata": {},
     "outputs": [],
     "prompt_number": 8
    },
    {
     "cell_type": "code",
     "collapsed": false,
     "input": [
      "a.remove_columns(['full_name'])\n",
      "a.filled(-9999).write(\"HaumeaFamily.raw\",format='ascii.no_header') #filled just in case, unnecessary I think"
     ],
     "language": "python",
     "metadata": {},
     "outputs": [],
     "prompt_number": 89
    },
    {
     "cell_type": "heading",
     "level": 3,
     "metadata": {},
     "source": [
      "Input Haumea Family List"
     ]
    },
    {
     "cell_type": "code",
     "collapsed": false,
     "input": [
      "HaumeaFamily = ascii.read('HaumeaFamily.dat',delimiter='\\t')\n",
      "HaumeaFamily"
     ],
     "language": "python",
     "metadata": {},
     "outputs": [
      {
       "html": [
        "<table id=\"table174137696\"><thead><tr><th>name</th></tr></thead><tr><td>2002 TX300</td></tr><tr><td>1995 SM55</td></tr><tr><td>1996 TO66</td></tr><tr><td>2003 OP32</td></tr><tr><td>2005 RR43</td></tr><tr><td>1999 OY3</td></tr><tr><td>2003 UZ117</td></tr><tr><td>2005 CB79</td></tr><tr><td>2003 SQ317</td></tr><tr><td>2009 YE7</td></tr></table>"
       ],
       "metadata": {},
       "output_type": "pyout",
       "prompt_number": 18,
       "text": [
        "<Table rows=10 names=('name')>\n",
        "array([('2002 TX300',), ('1995 SM55',), ('1996 TO66',), ('2003 OP32',),\n",
        "       ('2005 RR43',), ('1999 OY3',), ('2003 UZ117',), ('2005 CB79',),\n",
        "       ('2003 SQ317',), ('2009 YE7',)], \n",
        "      dtype=[('name', 'S10')])"
       ]
      }
     ],
     "prompt_number": 18
    },
    {
     "cell_type": "code",
     "collapsed": false,
     "input": [
      "from astropy.table import Table, join\n"
     ],
     "language": "python",
     "metadata": {},
     "outputs": [],
     "prompt_number": 19
    },
    {
     "cell_type": "code",
     "collapsed": false,
     "input": [
      "count =0\n",
      "for row in TNOtable:\n",
      "    c=False\n",
      "    for name in HaumeaFamily['name']:\n",
      "        c=c + (name in row['full_name'])\n",
      "    if (c>0):\n",
      "        if (count==0):\n",
      "            a=Table(row)\n",
      "        else:\n",
      "            a.add_row(row)\n",
      "        count=count+1\n",
      "a"
     ],
     "language": "python",
     "metadata": {},
     "outputs": [
      {
       "html": [
        "<table id=\"table190249056\"><thead><tr><th>full_name</th><th>a</th><th>e</th><th>i</th><th>om</th><th>w</th><th>ma</th><th>H</th><th>per_y</th><th>Discovery Date</th></tr></thead><tr><td>55636 (2002 TX300)</td><td>43.2196523283</td><td>0.121348113956</td><td>25.8807352855</td><td>324.710710956</td><td>340.150409494</td><td>52.3331089442</td><td>3.3</td><td>284.138514574</td><td>34981.0</td></tr><tr><td>120178 (2003 OP32)</td><td>43.0440753158</td><td>0.104876294825</td><td>27.2005167799</td><td>182.953109867</td><td>67.1790724607</td><td>51.4342350395</td><td>3.6</td><td>282.408833018</td><td>48093.0</td></tr><tr><td>145453 (2005 RR43)</td><td>43.2895356217</td><td>0.138095506569</td><td>28.477033334</td><td>85.8815326852</td><td>280.480373307</td><td>22.46127228</td><td>4.1</td><td>284.827942598</td><td>43100.0</td></tr><tr><td>386723 (2009 YE7)</td><td>44.4076827104</td><td>0.141552198336</td><td>29.0788929142</td><td>141.727803692</td><td>99.0710877379</td><td>161.360973064</td><td>4.2</td><td>295.934344069</td><td>54057.0</td></tr><tr><td>19308 (1996 TO66)</td><td>43.2328248552</td><td>0.118689875521</td><td>27.4805504284</td><td>355.275113609</td><td>239.295574336</td><td>116.762352944</td><td>4.5</td><td>284.268424482</td><td>45608.0</td></tr><tr><td>308193 (2005 CB79)</td><td>43.6284593785</td><td>0.145865421469</td><td>28.5888947321</td><td>112.7588086</td><td>89.8801033774</td><td>299.784432309</td><td>4.7</td><td>288.179456691</td><td>52344.0</td></tr><tr><td>24835 (1995 SM55)</td><td>41.8851456997</td><td>0.10737111749</td><td>27.0706983883</td><td>21.0740606148</td><td>71.6015688985</td><td>307.175982682</td><td>4.8</td><td>271.080481273</td><td>45228.0</td></tr><tr><td>416400 (2003 UZ117)</td><td>44.3582432317</td><td>0.135979825022</td><td>27.4390259331</td><td>204.66444856</td><td>246.888194771</td><td>319.124111945</td><td>5.2</td><td>295.440282032</td><td>52591.0</td></tr><tr><td>(2003 SQ317)</td><td>42.5718400463</td><td>0.0782913514232</td><td>28.6146494368</td><td>176.33690249</td><td>194.321232894</td><td>-18.1227276174</td><td>6.1</td><td>277.774154821</td><td>52907.0</td></tr><tr><td>86047 (1999 OY3)</td><td>43.6799538995</td><td>0.169292031911</td><td>24.2774038353</td><td>301.871965157</td><td>303.756540273</td><td>42.5512093104</td><td>6.8</td><td>288.689813047</td><td>51377.0</td></tr></table>"
       ],
       "metadata": {},
       "output_type": "pyout",
       "prompt_number": 87,
       "text": [
        "<Table rows=10 names=('full_name','a','e','i','om','w','ma','H','per_y','Discovery Date')>\n",
        "masked_array(data = [ ('55636 (2002 TX300)', 43.21965232834987, 0.1213481139559169, 25.88073528554109, 324.7107109557807, 340.1504094938003, 52.33310894419725, 3.3, 284.13851457379, 34981.0)\n",
        " ('120178 (2003 OP32)', 43.04407531576882, 0.1048762948247594, 27.20051677985851, 182.9531098666431, 67.17907246066198, 51.43423503953097, 3.6, 282.408833018304, 48093.0)\n",
        " ('145453 (2005 RR43)', 43.28953562166471, 0.1380955065692717, 28.4770333340465, 85.88153268520851, 280.4803733066424, 22.46127227999844, 4.1, 284.827942597748, 43100.0)\n",
        " ('386723 (2009 YE7)', 44.40768271043152, 0.1415521983362934, 29.07889291418515, 141.7278036920643, 99.07108773785674, 161.36097306422278, 4.2, 295.934344068833, 54057.0)\n",
        " ('19308 (1996 TO66)', 43.23282485522726, 0.1186898755207375, 27.48055042844522, 355.2751136085317, 239.2955743357098, 116.76235294436951, 4.5, 284.26842448245, 45608.0)\n",
        " ('308193 (2005 CB79)', 43.62845937854895, 0.1458654214688567, 28.58889473205067, 112.7588086002465, 89.88010337741198, 299.78443230865827, 4.7, 288.179456690856, 52344.0)\n",
        " ('24835 (1995 SM55)', 41.88514569968032, 0.1073711174903945, 27.07069838826567, 21.07406061481964, 71.60156889847794, 307.17598268213203, 4.8, 271.080481272732, 45228.0)\n",
        " ('416400 (2003 UZ117)', 44.35824323171453, 0.1359798250220773, 27.4390259330798, 204.6644485600391, 246.8881947714634, 319.1241119447947, 5.2, 295.44028203177, 52591.0)\n",
        " ('(2003 SQ317)', 42.57184004633979, 0.07829135142324514, 28.61464943676386, 176.3369024899574, 194.3212328944294, -18.122727617382452, 6.1, 277.774154821374, 52907.0)\n",
        " ('86047 (1999 OY3)', 43.67995389953803, 0.1692920319109981, 24.27740383529834, 301.8719651570757, 303.7565402728275, 42.55120931044183, 6.8, 288.689813046517, 51377.0)],\n",
        "             mask = [(False, False, False, False, False, False, False, False, False, False)\n",
        " (False, False, False, False, False, False, False, False, False, False)\n",
        " (False, False, False, False, False, False, False, False, False, False)\n",
        " (False, False, False, False, False, False, False, False, False, False)\n",
        " (False, False, False, False, False, False, False, False, False, False)\n",
        " (False, False, False, False, False, False, False, False, False, False)\n",
        " (False, False, False, False, False, False, False, False, False, False)\n",
        " (False, False, False, False, False, False, False, False, False, False)\n",
        " (False, False, False, False, False, False, False, False, False, False)\n",
        " (False, False, False, False, False, False, False, False, False, False)],\n",
        "       fill_value = ('N/A', 1e+20, 1e+20, 1e+20, 1e+20, 1e+20, 1e+20, 1e+20, 1e+20, 1e+20),\n",
        "            dtype = [('full_name', 'S33'), ('a', '<f8'), ('e', '<f8'), ('i', '<f8'), ('om', '<f8'), ('w', '<f8'), ('ma', '<f8'), ('H', '<f8'), ('per_y', '<f8'), ('Discovery Date', '<f8')])"
       ]
      }
     ],
     "prompt_number": 87
    },
    {
     "cell_type": "code",
     "collapsed": false,
     "input": [
      "HaumeaFamily['name'][0]"
     ],
     "language": "python",
     "metadata": {},
     "outputs": [
      {
       "metadata": {},
       "output_type": "pyout",
       "prompt_number": 33,
       "text": [
        "'2002 TX300'"
       ]
      }
     ],
     "prompt_number": 33
    },
    {
     "cell_type": "code",
     "collapsed": false,
     "input": [
      "t = Table(names=TNOtable.colnames,dtype=TNOtable.type)"
     ],
     "language": "python",
     "metadata": {},
     "outputs": [
      {
       "ename": "AttributeError",
       "evalue": "'Table' object has no attribute 'type'",
       "output_type": "pyerr",
       "traceback": [
        "\u001b[1;31m---------------------------------------------------------------------------\u001b[0m\n\u001b[1;31mAttributeError\u001b[0m                            Traceback (most recent call last)",
        "\u001b[1;32m<ipython-input-78-4ebeb1a77b52>\u001b[0m in \u001b[0;36m<module>\u001b[1;34m()\u001b[0m\n\u001b[1;32m----> 1\u001b[1;33m \u001b[0mt\u001b[0m \u001b[1;33m=\u001b[0m \u001b[0mTable\u001b[0m\u001b[1;33m(\u001b[0m\u001b[0mnames\u001b[0m\u001b[1;33m=\u001b[0m\u001b[0mTNOtable\u001b[0m\u001b[1;33m.\u001b[0m\u001b[0mcolnames\u001b[0m\u001b[1;33m,\u001b[0m\u001b[0mdtype\u001b[0m\u001b[1;33m=\u001b[0m\u001b[0mTNOtable\u001b[0m\u001b[1;33m.\u001b[0m\u001b[0mtype\u001b[0m\u001b[1;33m)\u001b[0m\u001b[1;33m\u001b[0m\u001b[0m\n\u001b[0m",
        "\u001b[1;31mAttributeError\u001b[0m: 'Table' object has no attribute 'type'"
       ]
      }
     ],
     "prompt_number": 78
    },
    {
     "cell_type": "code",
     "collapsed": false,
     "input": [
      "TNOtable.types\n",
      "\n"
     ],
     "language": "python",
     "metadata": {},
     "outputs": [
      {
       "ename": "AttributeError",
       "evalue": "'Table' object has no attribute 'types'",
       "output_type": "pyerr",
       "traceback": [
        "\u001b[1;31m---------------------------------------------------------------------------\u001b[0m\n\u001b[1;31mAttributeError\u001b[0m                            Traceback (most recent call last)",
        "\u001b[1;32m<ipython-input-82-986cdf57314e>\u001b[0m in \u001b[0;36m<module>\u001b[1;34m()\u001b[0m\n\u001b[1;32m----> 1\u001b[1;33m \u001b[0mTNOtable\u001b[0m\u001b[1;33m.\u001b[0m\u001b[0mtypes\u001b[0m\u001b[1;33m\u001b[0m\u001b[0m\n\u001b[0m\u001b[0;32m      2\u001b[0m \u001b[1;33m\u001b[0m\u001b[0m\n",
        "\u001b[1;31mAttributeError\u001b[0m: 'Table' object has no attribute 'types'"
       ]
      }
     ],
     "prompt_number": 82
    },
    {
     "cell_type": "code",
     "collapsed": false,
     "input": [
      "t\n"
     ],
     "language": "python",
     "metadata": {},
     "outputs": [
      {
       "html": [
        "<table id=\"table174214504\"><thead><tr><th>full_name</th><th>a</th><th>e</th><th>i</th><th>om</th><th>w</th><th>ma</th><th>H</th><th>per_y</th><th>Discovery Date</th></tr></thead></table>"
       ],
       "metadata": {},
       "output_type": "pyout",
       "prompt_number": 68,
       "text": [
        "<Table rows=0 names=('full_name','a','e','i','om','w','ma','H','per_y','Discovery Date')>\n",
        "array([], \n",
        "      dtype=[('full_name', '<f8'), ('a', '<f8'), ('e', '<f8'), ('i', '<f8'), ('om', '<f8'), ('w', '<f8'), ('ma', '<f8'), ('H', '<f8'), ('per_y', '<f8'), ('Discovery Date', '<f8')])"
       ]
      }
     ],
     "prompt_number": 68
    }
   ],
   "metadata": {}
  }
 ]
}