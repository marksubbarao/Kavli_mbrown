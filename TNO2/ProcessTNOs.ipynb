{
 "metadata": {
  "name": "",
  "signature": "sha256:80ef8f3b966b08a3fd69831ade0247c715aaa19a6ace5c983d95ca68c020aad2"
 },
 "nbformat": 3,
 "nbformat_minor": 0,
 "worksheets": [
  {
   "cells": [
    {
     "cell_type": "code",
     "collapsed": false,
     "input": [
      "from astropy.table import Table,Column\n",
      "from astropy.time import Time\n",
      "from astropy import units\n",
      "from astropy.coordinates import SkyCoord\n",
      "from astropy.io import ascii"
     ],
     "language": "python",
     "metadata": {},
     "outputs": [],
     "prompt_number": 1
    },
    {
     "cell_type": "heading",
     "level": 3,
     "metadata": {},
     "source": [
      "Read Output table from JPL Horizons search"
     ]
    },
    {
     "cell_type": "code",
     "collapsed": false,
     "input": [
      "TNOtable = ascii.read('results.csv')\n",
      "TNOtable"
     ],
     "language": "python",
     "metadata": {},
     "outputs": [
      {
       "ename": "IOError",
       "evalue": "[Errno 2] No such file or directory: 'results.csv'",
       "output_type": "pyerr",
       "traceback": [
        "\u001b[1;31m---------------------------------------------------------------------------\u001b[0m\n\u001b[1;31mIOError\u001b[0m                                   Traceback (most recent call last)",
        "\u001b[1;32m<ipython-input-2-b54d8326b040>\u001b[0m in \u001b[0;36m<module>\u001b[1;34m()\u001b[0m\n\u001b[1;32m----> 1\u001b[1;33m \u001b[0mTNOtable\u001b[0m \u001b[1;33m=\u001b[0m \u001b[0mascii\u001b[0m\u001b[1;33m.\u001b[0m\u001b[0mread\u001b[0m\u001b[1;33m(\u001b[0m\u001b[1;34m'results.csv'\u001b[0m\u001b[1;33m)\u001b[0m\u001b[1;33m\u001b[0m\u001b[0m\n\u001b[0m\u001b[0;32m      2\u001b[0m \u001b[0mTNOtable\u001b[0m\u001b[1;33m\u001b[0m\u001b[0m\n",
        "\u001b[1;32mC:\\Anaconda\\lib\\site-packages\\astropy\\io\\ascii\\ui.pyc\u001b[0m in \u001b[0;36mread\u001b[1;34m(table, guess, **kwargs)\u001b[0m\n\u001b[0;32m    130\u001b[0m         \u001b[0mguess\u001b[0m \u001b[1;33m=\u001b[0m \u001b[0m_GUESS\u001b[0m\u001b[1;33m\u001b[0m\u001b[0m\n\u001b[0;32m    131\u001b[0m     \u001b[1;32mif\u001b[0m \u001b[0mguess\u001b[0m\u001b[1;33m:\u001b[0m\u001b[1;33m\u001b[0m\u001b[0m\n\u001b[1;32m--> 132\u001b[1;33m         \u001b[0mdat\u001b[0m \u001b[1;33m=\u001b[0m \u001b[0m_guess\u001b[0m\u001b[1;33m(\u001b[0m\u001b[0mtable\u001b[0m\u001b[1;33m,\u001b[0m \u001b[0mnew_kwargs\u001b[0m\u001b[1;33m)\u001b[0m\u001b[1;33m\u001b[0m\u001b[0m\n\u001b[0m\u001b[0;32m    133\u001b[0m     \u001b[1;32melse\u001b[0m\u001b[1;33m:\u001b[0m\u001b[1;33m\u001b[0m\u001b[0m\n\u001b[0;32m    134\u001b[0m         \u001b[0mreader\u001b[0m \u001b[1;33m=\u001b[0m \u001b[0mget_reader\u001b[0m\u001b[1;33m(\u001b[0m\u001b[1;33m**\u001b[0m\u001b[0mnew_kwargs\u001b[0m\u001b[1;33m)\u001b[0m\u001b[1;33m\u001b[0m\u001b[0m\n",
        "\u001b[1;32mC:\\Anaconda\\lib\\site-packages\\astropy\\io\\ascii\\ui.pyc\u001b[0m in \u001b[0;36m_guess\u001b[1;34m(table, read_kwargs)\u001b[0m\n\u001b[0;32m    172\u001b[0m \u001b[1;33m\u001b[0m\u001b[0m\n\u001b[0;32m    173\u001b[0m             \u001b[0mreader\u001b[0m \u001b[1;33m=\u001b[0m \u001b[0mget_reader\u001b[0m\u001b[1;33m(\u001b[0m\u001b[1;33m**\u001b[0m\u001b[0mguess_kwargs\u001b[0m\u001b[1;33m)\u001b[0m\u001b[1;33m\u001b[0m\u001b[0m\n\u001b[1;32m--> 174\u001b[1;33m             \u001b[0mdat\u001b[0m \u001b[1;33m=\u001b[0m \u001b[0mreader\u001b[0m\u001b[1;33m.\u001b[0m\u001b[0mread\u001b[0m\u001b[1;33m(\u001b[0m\u001b[0mtable\u001b[0m\u001b[1;33m)\u001b[0m\u001b[1;33m\u001b[0m\u001b[0m\n\u001b[0m\u001b[0;32m    175\u001b[0m \u001b[1;33m\u001b[0m\u001b[0m\n\u001b[0;32m    176\u001b[0m             \u001b[1;31m# When guessing require at least two columns\u001b[0m\u001b[1;33m\u001b[0m\u001b[1;33m\u001b[0m\u001b[0m\n",
        "\u001b[1;32mC:\\Anaconda\\lib\\site-packages\\astropy\\io\\ascii\\core.pyc\u001b[0m in \u001b[0;36mread\u001b[1;34m(self, table)\u001b[0m\n\u001b[0;32m    854\u001b[0m \u001b[1;33m\u001b[0m\u001b[0m\n\u001b[0;32m    855\u001b[0m         \u001b[1;31m# Get a list of the lines (rows) in the table\u001b[0m\u001b[1;33m\u001b[0m\u001b[1;33m\u001b[0m\u001b[0m\n\u001b[1;32m--> 856\u001b[1;33m         \u001b[0mself\u001b[0m\u001b[1;33m.\u001b[0m\u001b[0mlines\u001b[0m \u001b[1;33m=\u001b[0m \u001b[0mself\u001b[0m\u001b[1;33m.\u001b[0m\u001b[0minputter\u001b[0m\u001b[1;33m.\u001b[0m\u001b[0mget_lines\u001b[0m\u001b[1;33m(\u001b[0m\u001b[0mtable\u001b[0m\u001b[1;33m)\u001b[0m\u001b[1;33m\u001b[0m\u001b[0m\n\u001b[0m\u001b[0;32m    857\u001b[0m \u001b[1;33m\u001b[0m\u001b[0m\n\u001b[0;32m    858\u001b[0m         \u001b[1;31m# Set self.data.data_lines to a slice of lines contain the data rows\u001b[0m\u001b[1;33m\u001b[0m\u001b[1;33m\u001b[0m\u001b[0m\n",
        "\u001b[1;32mC:\\Anaconda\\lib\\site-packages\\astropy\\io\\ascii\\core.pyc\u001b[0m in \u001b[0;36mget_lines\u001b[1;34m(self, table)\u001b[0m\n\u001b[0;32m    144\u001b[0m             if (hasattr(table, 'read') or\n\u001b[0;32m    145\u001b[0m                     ('\\n' not in table + '' and '\\r' not in table + '')):\n\u001b[1;32m--> 146\u001b[1;33m                 \u001b[1;32mwith\u001b[0m \u001b[0mget_readable_fileobj\u001b[0m\u001b[1;33m(\u001b[0m\u001b[0mtable\u001b[0m\u001b[1;33m)\u001b[0m \u001b[1;32mas\u001b[0m \u001b[0mfile_obj\u001b[0m\u001b[1;33m:\u001b[0m\u001b[1;33m\u001b[0m\u001b[0m\n\u001b[0m\u001b[0;32m    147\u001b[0m                     \u001b[0mtable\u001b[0m \u001b[1;33m=\u001b[0m \u001b[0mfile_obj\u001b[0m\u001b[1;33m.\u001b[0m\u001b[0mread\u001b[0m\u001b[1;33m(\u001b[0m\u001b[1;33m)\u001b[0m\u001b[1;33m\u001b[0m\u001b[0m\n\u001b[0;32m    148\u001b[0m             \u001b[0mlines\u001b[0m \u001b[1;33m=\u001b[0m \u001b[0mtable\u001b[0m\u001b[1;33m.\u001b[0m\u001b[0msplitlines\u001b[0m\u001b[1;33m(\u001b[0m\u001b[1;33m)\u001b[0m\u001b[1;33m\u001b[0m\u001b[0m\n",
        "\u001b[1;32mC:\\Anaconda\\lib\\contextlib.pyc\u001b[0m in \u001b[0;36m__enter__\u001b[1;34m(self)\u001b[0m\n\u001b[0;32m     15\u001b[0m     \u001b[1;32mdef\u001b[0m \u001b[0m__enter__\u001b[0m\u001b[1;33m(\u001b[0m\u001b[0mself\u001b[0m\u001b[1;33m)\u001b[0m\u001b[1;33m:\u001b[0m\u001b[1;33m\u001b[0m\u001b[0m\n\u001b[0;32m     16\u001b[0m         \u001b[1;32mtry\u001b[0m\u001b[1;33m:\u001b[0m\u001b[1;33m\u001b[0m\u001b[0m\n\u001b[1;32m---> 17\u001b[1;33m             \u001b[1;32mreturn\u001b[0m \u001b[0mself\u001b[0m\u001b[1;33m.\u001b[0m\u001b[0mgen\u001b[0m\u001b[1;33m.\u001b[0m\u001b[0mnext\u001b[0m\u001b[1;33m(\u001b[0m\u001b[1;33m)\u001b[0m\u001b[1;33m\u001b[0m\u001b[0m\n\u001b[0m\u001b[0;32m     18\u001b[0m         \u001b[1;32mexcept\u001b[0m \u001b[0mStopIteration\u001b[0m\u001b[1;33m:\u001b[0m\u001b[1;33m\u001b[0m\u001b[0m\n\u001b[0;32m     19\u001b[0m             \u001b[1;32mraise\u001b[0m \u001b[0mRuntimeError\u001b[0m\u001b[1;33m(\u001b[0m\u001b[1;34m\"generator didn't yield\"\u001b[0m\u001b[1;33m)\u001b[0m\u001b[1;33m\u001b[0m\u001b[0m\n",
        "\u001b[1;32mC:\\Anaconda\\lib\\site-packages\\astropy\\utils\\data.pyc\u001b[0m in \u001b[0;36mget_readable_fileobj\u001b[1;34m(name_or_obj, encoding, cache, show_progress, remote_timeout)\u001b[0m\n\u001b[0;32m    197\u001b[0m             \u001b[0mfileobj\u001b[0m \u001b[1;33m=\u001b[0m \u001b[0mio\u001b[0m\u001b[1;33m.\u001b[0m\u001b[0mFileIO\u001b[0m\u001b[1;33m(\u001b[0m\u001b[0mname_or_obj\u001b[0m\u001b[1;33m,\u001b[0m \u001b[1;34m'r'\u001b[0m\u001b[1;33m)\u001b[0m\u001b[1;33m\u001b[0m\u001b[0m\n\u001b[0;32m    198\u001b[0m         \u001b[1;32melif\u001b[0m \u001b[0msix\u001b[0m\u001b[1;33m.\u001b[0m\u001b[0mPY2\u001b[0m\u001b[1;33m:\u001b[0m\u001b[1;33m\u001b[0m\u001b[0m\n\u001b[1;32m--> 199\u001b[1;33m             \u001b[0mfileobj\u001b[0m \u001b[1;33m=\u001b[0m \u001b[0mopen\u001b[0m\u001b[1;33m(\u001b[0m\u001b[0mname_or_obj\u001b[0m\u001b[1;33m,\u001b[0m \u001b[1;34m'rb'\u001b[0m\u001b[1;33m)\u001b[0m\u001b[1;33m\u001b[0m\u001b[0m\n\u001b[0m\u001b[0;32m    200\u001b[0m         \u001b[0mclose_fds\u001b[0m\u001b[1;33m.\u001b[0m\u001b[0mappend\u001b[0m\u001b[1;33m(\u001b[0m\u001b[0mfileobj\u001b[0m\u001b[1;33m)\u001b[0m\u001b[1;33m\u001b[0m\u001b[0m\n\u001b[0;32m    201\u001b[0m     \u001b[1;32melse\u001b[0m\u001b[1;33m:\u001b[0m\u001b[1;33m\u001b[0m\u001b[0m\n",
        "\u001b[1;31mIOError\u001b[0m: [Errno 2] No such file or directory: 'results.csv'"
       ]
      }
     ],
     "prompt_number": 2
    },
    {
     "cell_type": "heading",
     "level": 3,
     "metadata": {},
     "source": [
      "Write first observation date in mjd"
     ]
    },
    {
     "cell_type": "code",
     "collapsed": false,
     "input": [
      "times = Time(TNOtable['first_obs'], format='isot', scale='utc')\n",
      "TNOtable.remove_columns(['first_obs'])\n",
      "TNOtable.add_column(Column(times.mjd,name=\"Discovery Date\"))\n",
      "TNOtable"
     ],
     "language": "python",
     "metadata": {},
     "outputs": [
      {
       "html": [
        "<table id=\"table59841616\"><thead><tr><th>e</th><th>a</th><th>i</th><th>om</th><th>w</th><th>ma</th><th>H</th><th>per_y</th><th>Discovery Date</th></tr></thead><tr><td>0.0678213065698</td><td>43.897996156</td><td>2.19070681046</td><td>359.494255576</td><td>4.29717773456</td><td>24.1404810494</td><td>7.1</td><td>290.854137702</td><td>48864.0</td></tr><tr><td>0.322346899333</td><td>39.4450413027</td><td>1.9399861124</td><td>354.937869898</td><td>79.3004342315</td><td>348.296025876</td><td>7.9</td><td>247.740394588</td><td>49579.0</td></tr><tr><td>0.183601807735</td><td>39.4965638214</td><td>5.16576226097</td><td>354.738531181</td><td>316.997769646</td><td>63.8770731323</td><td>7.0</td><td>248.225945213</td><td>49253.0</td></tr><tr><td>0.0642029636768</td><td>43.9259528588</td><td>0.563504454933</td><td>176.832152305</td><td>307.64684144</td><td>69.0865474319</td><td>7.4</td><td>291.132030245</td><td>49477.0</td></tr><tr><td>0.214498593831</td><td>42.0891632367</td><td>14.0470795083</td><td>56.327088804</td><td>237.174172371</td><td>348.866290863</td><td>7.8</td><td>273.063492058</td><td>49813.0</td></tr><tr><td>0.116029476696</td><td>39.2647384001</td><td>3.80796138878</td><td>144.679488338</td><td>101.012521229</td><td>28.4521947442</td><td>7.7</td><td>246.043708748</td><td>49484.0</td></tr><tr><td>0.318100569921</td><td>39.5332960455</td><td>12.1390491674</td><td>317.500816316</td><td>99.2217298453</td><td>353.876139995</td><td>7.3</td><td>248.572304862</td><td>49638.0</td></tr><tr><td>0.0781016621407</td><td>36.6164584267</td><td>6.54527156519</td><td>127.423198094</td><td>337.540199331</td><td>51.7130364881</td><td>7.7</td><td>221.575994534</td><td>49806.0</td></tr><tr><td>0.582595311839</td><td>84.0014973165</td><td>23.9853546856</td><td>217.786884179</td><td>184.923781233</td><td>6.23828422723</td><td>5.4</td><td>769.9078422</td><td>50365.0</td></tr><tr><td>0.332239391774</td><td>39.5431636633</td><td>5.68639467687</td><td>316.87776671</td><td>75.7540416191</td><td>20.8747930289</td><td>7.0</td><td>248.66537715</td><td>50367.0</td></tr><tr><td>0.214411484394</td><td>47.354432489</td><td>19.1134656395</td><td>127.116368733</td><td>302.483452434</td><td>64.7136850094</td><td>7.1</td><td>325.873583682</td><td>50482.0</td></tr><tr><td>...</td><td>...</td><td>...</td><td>...</td><td>...</td><td>...</td><td>...</td><td>...</td><td>...</td></tr><tr><td>0.100840023985</td><td>48.3302661027</td><td>4.73999314588</td><td>83.8537776013</td><td>241.464257878</td><td>359.865024905</td><td>6.0</td><td>335.998223956</td><td>56893.0</td></tr><tr><td>0.272579853223</td><td>49.0597590433</td><td>26.2543166371</td><td>75.8878104866</td><td>284.335828091</td><td>15.0657368614</td><td>6.5469</td><td>343.634151181</td><td>56887.0</td></tr><tr><td>0.281909509832</td><td>39.6064953667</td><td>18.2582452552</td><td>96.1042201591</td><td>316.074790524</td><td>351.696131523</td><td>8.5437</td><td>249.26300406</td><td>56890.0</td></tr><tr><td>0.282242146401</td><td>46.1621603077</td><td>20.7062381075</td><td>144.711725219</td><td>242.978253516</td><td>2.39777403043</td><td>6.7133</td><td>313.644292928</td><td>56578.0</td></tr><tr><td>0.753794692007</td><td>38.18916091</td><td>85.9886153198</td><td>171.800005144</td><td>159.332736407</td><td>359.317268106</td><td>11.3</td><td>236.003463489</td><td>56911.0</td></tr><tr><td>0.0744416296376</td><td>40.6228513985</td><td>17.8165184975</td><td>98.3707766523</td><td>274.637297153</td><td>21.4586287464</td><td>8.0057</td><td>258.918932897</td><td>56932.0</td></tr><tr><td>0.231368837621</td><td>45.7707337812</td><td>16.9558413498</td><td>237.171970742</td><td>252.590968447</td><td>292.125257883</td><td>4.2816</td><td>309.663497541</td><td>56952.0</td></tr><tr><td>0.456257977728</td><td>31.0285538285</td><td>15.184961227</td><td>319.477528702</td><td>82.1087889593</td><td>359.587963008</td><td>8.5</td><td>172.842485979</td><td>56952.0</td></tr><tr><td>0.535139981632</td><td>40.385859051</td><td>19.8541745604</td><td>13.2603876873</td><td>275.748580895</td><td>52.1291135404</td><td>5.9289</td><td>256.656454241</td><td>56958.0</td></tr><tr><td>0.418862849708</td><td>76.6525710943</td><td>10.177001095</td><td>267.635559235</td><td>139.558643745</td><td>0.103863256969</td><td>5.7</td><td>671.117080609</td><td>56978.0</td></tr><tr><td>0.959541833614</td><td>80.4142558596</td><td>101.426753115</td><td>62.2774476006</td><td>39.5459369414</td><td>359.980324153</td><td>15.114</td><td>721.120386303</td><td>56999.0</td></tr></table>"
       ],
       "metadata": {},
       "output_type": "pyout",
       "prompt_number": 9,
       "text": [
        "<Table rows=1644 names=('e','a','i','om','w','ma','H','per_y','Discovery Date')>\n",
        "masked_array(data = [ (0.06782130656978634, 43.89799615603241, 2.190706810460594, 359.4942555763004, 4.297177734563659, 24.14048104940069, 7.1, 290.854137702061, 48864.0)\n",
        " (0.3223468993327617, 39.44504130270598, 1.939986112400672, 354.9378698977087, 79.30043423152256, 348.2960258759337, 7.9, 247.740394587625, 49579.0)\n",
        " (0.1836018077354668, 39.49656382142236, 5.165762260971479, 354.7385311811182, 316.9977696455234, 63.87707313232937, 7.0, 248.225945212979, 49253.0)\n",
        " ...,\n",
        " (0.5351399816323035, 40.38585905100327, 19.85417456038599, 13.26038768734162, 275.748580894566, 52.12911354042887, 5.9289, 256.656454241017, 56958.0)\n",
        " (0.4188628497078152, 76.65257109429912, 10.17700109503644, 267.6355592353411, 139.5586437451629, 0.1038632569691494, 5.7, 671.117080608577, 56978.0)\n",
        " (0.9595418336144043, 80.41425585961413, 101.4267531147884, 62.27744760062912, 39.54593694137959, 359.9803241534482, 15.114, 721.120386302779, 56999.0)],\n",
        "             mask = [(False, False, False, False, False, False, False, False, False)\n",
        " (False, False, False, False, False, False, False, False, False)\n",
        " (False, False, False, False, False, False, False, False, False) ...,\n",
        " (False, False, False, False, False, False, False, False, False)\n",
        " (False, False, False, False, False, False, False, False, False)\n",
        " (False, False, False, False, False, False, False, False, False)],\n",
        "       fill_value = (1e+20, 1e+20, 1e+20, 1e+20, 1e+20, 1e+20, 1e+20, 1e+20, 1e+20),\n",
        "            dtype = [('e', '<f8'), ('a', '<f8'), ('i', '<f8'), ('om', '<f8'), ('w', '<f8'), ('ma', '<f8'), ('H', '<f8'), ('per_y', '<f8'), ('Discovery Date', '<f8')])"
       ]
      }
     ],
     "prompt_number": 9
    },
    {
     "cell_type": "heading",
     "level": 3,
     "metadata": {},
     "source": [
      "Output USES style .raw file"
     ]
    },
    {
     "cell_type": "code",
     "collapsed": false,
     "input": [
      "TNOtable.filled(0.0).write(\"TNOs.raw\",format='ascii.no_header') #filled just in case, unnecessary I think"
     ],
     "language": "python",
     "metadata": {},
     "outputs": [],
     "prompt_number": 15
    },
    {
     "cell_type": "code",
     "collapsed": false,
     "input": [],
     "language": "python",
     "metadata": {},
     "outputs": []
    }
   ],
   "metadata": {}
  }
 ]
}